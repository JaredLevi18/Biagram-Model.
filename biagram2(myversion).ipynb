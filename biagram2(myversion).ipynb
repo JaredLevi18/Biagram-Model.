{
 "cells": [
  {
   "cell_type": "code",
   "execution_count": 64,
   "metadata": {},
   "outputs": [],
   "source": [
    "import torch\n",
    "import torch.nn as nn\n",
    "import torch.nn.functional as F\n",
    "import matplotlib.pyplot as plt\n",
    "%matplotlib inline"
   ]
  },
  {
   "cell_type": "code",
   "execution_count": 65,
   "metadata": {},
   "outputs": [],
   "source": [
    "with open('input.txt', 'r', encoding='utf-8') as f:\n",
    "    text = f.read()"
   ]
  },
  {
   "cell_type": "code",
   "execution_count": 66,
   "metadata": {},
   "outputs": [
    {
     "name": "stdout",
     "output_type": "stream",
     "text": [
      "length of the dataset: 1115394\n"
     ]
    }
   ],
   "source": [
    "print(f'length of the dataset: {len(text)}')\n",
    "# hyperparameters\n",
    "batch_size = 32 # how many independent sequences will we process in parallel?\n",
    "block_size = 8 # what is the maximum context length for predictions?\n",
    "max_iters = 30000\n",
    "eval_interval = 300\n",
    "learning_rate = 1e-2\n",
    "eval_iters = 200"
   ]
  },
  {
   "cell_type": "code",
   "execution_count": 67,
   "metadata": {},
   "outputs": [
    {
     "name": "stdout",
     "output_type": "stream",
     "text": [
      "\n",
      " !$&',-.3:;?ABCDEFGHIJKLMNOPQRSTUVWXYZabcdefghijklmnopqrstuvwxyz 65\n"
     ]
    }
   ],
   "source": [
    "chars = sorted(list(set(text)))\n",
    "vocab_size = len(chars)\n",
    "print(''.join(chars) ,vocab_size)"
   ]
  },
  {
   "cell_type": "code",
   "execution_count": 68,
   "metadata": {},
   "outputs": [],
   "source": [
    "# create a mapping from characters to integers\n",
    "stoi = { ch:i for i,ch in enumerate(chars) }\n",
    "itos = { i:ch for i,ch in enumerate(chars) }\n",
    "encode = lambda s: [stoi[c] for c in s] # encoder: take a string, output a list of integers\n",
    "decode = lambda l: ''.join([itos[i] for i in l]) # decoder: take a list of integers, output a string"
   ]
  },
  {
   "cell_type": "code",
   "execution_count": 69,
   "metadata": {},
   "outputs": [
    {
     "data": {
      "text/plain": [
       "(torch.int64, torch.Size([1115394]))"
      ]
     },
     "execution_count": 69,
     "metadata": {},
     "output_type": "execute_result"
    }
   ],
   "source": [
    "# let's encode our entire dataset and create a tensor from the encoder\n",
    "data = torch.tensor(encode(text), dtype=torch.long)\n",
    "data.dtype, data.shape"
   ]
  },
  {
   "cell_type": "code",
   "execution_count": 70,
   "metadata": {},
   "outputs": [],
   "source": [
    "# let's separate the data into training and validation sets\n",
    "n = int(0.9 * len(data))\n",
    "training = data[:n]  # 90%\n",
    "val = data[n:]       # 10%"
   ]
  },
  {
   "cell_type": "code",
   "execution_count": 71,
   "metadata": {},
   "outputs": [],
   "source": [
    "torch.manual_seed(1337)\n",
    "\n",
    "def get_batch(split):\n",
    "    # generate a small batch of data of inputs x and targets y\n",
    "    data = training if split == 'train' else val\n",
    "    ix = torch.randint(len(data) - block_size, (batch_size,))\n",
    "    x = torch.stack([data[i:i+block_size] for i in ix])\n",
    "    y = torch.stack([data[1+i:i+block_size+1] for i in ix])\n",
    "    return x, y\n",
    "\n",
    "@torch.no_grad()\n",
    "def estimateloss():\n",
    "    out = {}\n",
    "    model.eval()\n",
    "    for split in ['train', 'val']:\n",
    "        losses = torch.zeros(eval_iters)\n",
    "        for k in range(eval_iters):\n",
    "            X, Y = get_batch(split)\n",
    "            logits, loss = model(X, Y)\n",
    "            losses[k] = loss.item()\n",
    "        out[split] = losses.mean()\n",
    "    model.train()\n",
    "    return out\n",
    "\n",
    "xb, yb = get_batch('train')  # getting tensor of shape (4,8), in better words, getting random mini-batches of shape (4,8)"
   ]
  },
  {
   "cell_type": "code",
   "execution_count": 72,
   "metadata": {},
   "outputs": [
    {
     "name": "stdout",
     "output_type": "stream",
     "text": [
      "torch.Size([256, 65])\n",
      "tensor(4.7313, grad_fn=<NllLossBackward0>)\n",
      "\n",
      "Sr?qP-QWktXoL&jLDJgOLVz'RIoDqHdhsV&vLLxatjscMpwLERSPyao.qfzs$Ys$zF-w,;eEkzxjgCKFChs!iWW.ObzDnxA Ms$3\n"
     ]
    }
   ],
   "source": [
    "torch.manual_seed(1337)\n",
    "class BiagramModel(nn.Module):\n",
    "    def __init__(self, vocab_size) -> None:\n",
    "        super().__init__()\n",
    "        # each token directly reads off the logits for the next token from a lookup table\n",
    "        self.token_embedding_tabe = nn.Embedding(vocab_size, vocab_size)\n",
    "\n",
    "    def forward(self, idx, targets=None):\n",
    "        # idx and targets are both (B,T) tensor integers\n",
    "        logits = self.token_embedding_tabe(idx)  # (B,T,C)\n",
    "        if targets is None:\n",
    "            loss = None\n",
    "        else:\n",
    "            B, T, C = logits.shape\n",
    "            logits = logits.view(B*T, C)\n",
    "            targets = targets.view(B*T)\n",
    "            loss = F.cross_entropy(logits, targets)\n",
    "        return logits, loss\n",
    "    \n",
    "    def generate(self, idx, max_new_tokens):\n",
    "        # idx is (B,T) array of indices in the current context\n",
    "        for _ in range(max_new_tokens):\n",
    "            # get the predictions\n",
    "            logits, loss = self(idx)\n",
    "            # focus only on the last time step\n",
    "            logits = logits[:, -1, :] # becomes (B, C)\n",
    "            # apply softmax to get probabilities\n",
    "            probs = F.softmax(logits, dim=1)  # (B, C)\n",
    "            # sample from the distribution\n",
    "            idx_next = torch.multinomial(probs, num_samples=1)  # (B, 1)\n",
    "            # append sample index to the running sequence\n",
    "            idx = torch.cat((idx, idx_next), dim=1) # (B, T+1)\n",
    "        return idx\n",
    "model = BiagramModel(vocab_size)\n",
    "logits, loss = model(xb, yb)\n",
    "print(logits.shape)\n",
    "print(loss)\n",
    "print(decode(model.generate(torch.zeros(1,1, dtype=torch.long), max_new_tokens=100)[0].tolist()))"
   ]
  },
  {
   "cell_type": "code",
   "execution_count": 73,
   "metadata": {},
   "outputs": [],
   "source": [
    "# create a torch.optimizer\n",
    "optimizer = torch.optim.AdamW(model.parameters(), lr=learning_rate)"
   ]
  },
  {
   "cell_type": "code",
   "execution_count": 74,
   "metadata": {},
   "outputs": [
    {
     "name": "stdout",
     "output_type": "stream",
     "text": [
      "step 0: train loss 4.7312, val loss 4.7249\n",
      "step 1000: train loss 2.4895, val loss 2.5200\n",
      "step 2000: train loss 2.4723, val loss 2.4919\n",
      "step 3000: train loss 2.4616, val loss 2.4859\n",
      "step 4000: train loss 2.4597, val loss 2.4847\n",
      "step 5000: train loss 2.4582, val loss 2.4890\n",
      "step 6000: train loss 2.4520, val loss 2.4902\n",
      "step 7000: train loss 2.4602, val loss 2.4921\n",
      "step 8000: train loss 2.4526, val loss 2.4859\n",
      "step 9000: train loss 2.4605, val loss 2.4944\n",
      "step 10000: train loss 2.4618, val loss 2.4697\n",
      "step 11000: train loss 2.4690, val loss 2.4919\n",
      "step 12000: train loss 2.4511, val loss 2.4841\n",
      "step 13000: train loss 2.4422, val loss 2.4964\n",
      "step 14000: train loss 2.4541, val loss 2.4907\n",
      "step 15000: train loss 2.4489, val loss 2.4872\n",
      "step 16000: train loss 2.4612, val loss 2.4933\n",
      "step 17000: train loss 2.4475, val loss 2.4943\n",
      "step 18000: train loss 2.4470, val loss 2.4967\n",
      "step 19000: train loss 2.4534, val loss 2.4989\n",
      "step 20000: train loss 2.4415, val loss 2.4905\n",
      "step 21000: train loss 2.4549, val loss 2.4986\n",
      "step 22000: train loss 2.4610, val loss 2.5040\n",
      "step 23000: train loss 2.4602, val loss 2.4840\n",
      "step 24000: train loss 2.4525, val loss 2.4964\n",
      "step 25000: train loss 2.4557, val loss 2.5051\n",
      "step 26000: train loss 2.4563, val loss 2.4910\n",
      "step 27000: train loss 2.4574, val loss 2.4979\n",
      "step 28000: train loss 2.4460, val loss 2.4968\n",
      "step 29000: train loss 2.4530, val loss 2.4938\n"
     ]
    }
   ],
   "source": [
    "for iter in range(max_iters):\n",
    "    # every once in a while evaluate the loss on train and val sets\n",
    "    if iter % 1000 == 0:\n",
    "        losses = estimateloss()\n",
    "        print(f\"step {iter}: train loss {losses['train']:.4f}, val loss {losses['val']:.4f}\")\n",
    "    # sample a batch from the data\n",
    "    xb, yb = get_batch('train')\n",
    "    # evaluate the loss\n",
    "    logits, loss = model(xb, yb)\n",
    "    optimizer.zero_grad(set_to_none=True)\n",
    "    loss.backward()\n",
    "    optimizer.step()"
   ]
  },
  {
   "cell_type": "code",
   "execution_count": 76,
   "metadata": {},
   "outputs": [
    {
     "name": "stdout",
     "output_type": "stream",
     "text": [
      "\n",
      "\n",
      "You:\n",
      "I esspofouten bs'eernds Le thero t\n",
      "IOfay ags Gubedret w u whap the ate moury ed foes com wsesounighallkimear, ft tw he n COLURonthin ws o avouser bushayour! siqur.\n",
      "PO:\n",
      "INI f\n",
      "Why, atht touralf; lmband be-d ure anof tey feake blle aserdethe sthiffes wotes, NCEO:\n",
      "ANThangetyst s.\n",
      "Myo mu y tef hanhell,\n",
      "\n",
      "Fotse s isthamod: RThang\n",
      "\n",
      "Youth twimaco me heingoierar alf to d liompu rof rshe\n",
      "Tho ndilur tupr y, unls comoull. m s thailld?\n",
      "D er\n",
      "LA h owave or t\n",
      "SO:\n",
      "Thitem yrldimy t ry,\n",
      "Wit ll th t sunde.\n",
      "\n",
      "h \n"
     ]
    }
   ],
   "source": [
    "print(decode(m.generate(torch.zeros(1,1, dtype=torch.long), max_new_tokens=500)[0].tolist()))"
   ]
  }
 ],
 "metadata": {
  "kernelspec": {
   "display_name": "base",
   "language": "python",
   "name": "python3"
  },
  "language_info": {
   "codemirror_mode": {
    "name": "ipython",
    "version": 3
   },
   "file_extension": ".py",
   "mimetype": "text/x-python",
   "name": "python",
   "nbconvert_exporter": "python",
   "pygments_lexer": "ipython3",
   "version": "3.9.13"
  },
  "orig_nbformat": 4
 },
 "nbformat": 4,
 "nbformat_minor": 2
}
